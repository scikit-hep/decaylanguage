{
 "cells": [
  {
   "cell_type": "markdown",
   "metadata": {},
   "source": [
    "# Example of parsing a .dec decay file with Lark"
   ]
  },
  {
   "cell_type": "markdown",
   "metadata": {},
   "source": [
    "This file demonstrates how to parse a decfile with only the Lark grammar definition. Much of the functionality demonstrated here is already provided as part of decaylanguage in a more thorough and detailed form. This example only serves to show the key data structures used."
   ]
  },
  {
   "cell_type": "code",
   "execution_count": 1,
   "metadata": {},
   "outputs": [],
   "source": [
    "import re\n",
    "from lark import Lark, Tree\n",
    "\n",
    "from decaylanguage import data"
   ]
  },
  {
   "cell_type": "raw",
   "metadata": {},
   "source": [
    "Read in the Lark grammar definition file and the input .dec decay file"
   ]
  },
  {
   "cell_type": "code",
   "execution_count": 2,
   "metadata": {},
   "outputs": [],
   "source": [
    "with data.basepath.joinpath(\"decfile.lark\").open() as f:\n",
    "    grammar = f.read()\n",
    "\n",
    "with open(\"../tests/data/test_example_Dst.dec\") as f:\n",
    "    dec_file = f.read()"
   ]
  },
  {
   "cell_type": "markdown",
   "metadata": {},
   "source": [
    "For illustration - the grammar Lark file:"
   ]
  },
  {
   "cell_type": "code",
   "execution_count": 3,
   "metadata": {},
   "outputs": [
    {
     "name": "stdout",
     "output_type": "stream",
     "text": [
      "// Copyright (c) 2018-2023, Eduardo Rodrigues and Henry Schreiner.\n",
      "//\n",
      "// Distributed under the 3-clause BSD license, see accompanying file LICENSE\n",
      "// or https://github.com/scikit-hep/decaylanguage for details.\n",
      "\n",
      "start : _NEWLINE* (line _NEWLINE+)* (\"End\" _NEWLINE+)?\n",
      "?line : define | particle_def | pythia_def | jetset_def | ls_def | model_alias | alias | chargeconj | commands | decay | cdecay | copydecay | setlspw | setlsbw | changemasslimit | inc_factor\n",
      "\n",
      "pythia_def : LABEL_PYTHIA8_COMMANDS LABEL \":\" LABEL \"=\" (LABEL | SIGNED_NUMBER)  // Pythia 8 commands\n",
      "LABEL_PYTHIA8_COMMANDS : \"PythiaAliasParam\" | \"PythiaBothParam\" | \"PythiaGenericParam\"\n",
      "\n",
      "jetset_def : \"JetSetPar\" LABEL \"=\" SIGNED_NUMBER  // Old Pythia 6 commands\n",
      "\n",
      "ls_def : LABEL_LINESHAPE LABEL // Choose a lineshape for a particle\n",
      "LABEL_LINESHAPE : \"LSFLAT\" | \"LSNONRELBW\" | \"LSMANYDELTAFUNC\" // Lineshape flat | non-relativistic BW, spikes\n",
      "\n",
      "inc_factor: LABEL_INCLUDE_FACTOR LABEL BOOLEAN_INCLUDE_FACTOR // Presence of the birth/decay momentum factor and form-factor\n",
      "LABEL_INCLUDE_FACTOR : \"IncludeBirthFactor\" | \"IncludeDecayFactor\"\n",
      "BOOLEAN_INCLUDE_FACTOR : \"yes\" | \"no\"\n",
      "\n",
      "setlsbw : \"BlattWeisskopf\" LABEL SIGNED_NUMBER // Set Blatt-Weisskopf barrier factor for a lineshape\n",
      "\n",
      "setlspw : \"SetLineshapePW\" LABEL LABEL LABEL INT // Redefine Partial Wave for label -> label label\n",
      "\n",
      "cdecay : \"CDecay\" LABEL\n",
      "\n",
      "define : \"Define\" LABEL SIGNED_NUMBER\n",
      "\n",
      "particle_def: \"Particle\" LABEL SIGNED_NUMBER SIGNED_NUMBER // Set the mass and width of a particle (in GeV)\n",
      "\n",
      "alias : \"Alias\" LABEL LABEL\n",
      "\n",
      "chargeconj : \"ChargeConj\" LABEL LABEL\n",
      "\n",
      "changemasslimit : LABEL_CHANGE_MASS LABEL SIGNED_NUMBER // Set upper/lower mass cuts on a lineshape\n",
      "LABEL_CHANGE_MASS : \"ChangeMassMin\" | \"ChangeMassMax\"\n",
      "\n",
      "?commands : global_photos\n",
      "\n",
      "global_photos : boolean_photos\n",
      "\n",
      "boolean_photos : \"yesPhotos\" -> yes\n",
      "                | \"noPhotos\"  -> no\n",
      "\n",
      "decay : \"Decay\" particle _NEWLINE+ decayline* \"Enddecay\"\n",
      "decayline : value particle* photos? model _NEWLINE+\n",
      "value : SIGNED_NUMBER\n",
      "photos : \"PHOTOS\"\n",
      "\n",
      "copydecay : \"CopyDecay\" label label\n",
      "\n",
      "label : LABEL\n",
      "particle : LABEL // Add full particle parsing here\n",
      "model_label : LABEL\n",
      "\n",
      "model_alias : \"ModelAlias\" model_label model\n",
      "\n",
      "model : (model_label  | MODEL_NAME model_options?) _SEMICOLON+\n",
      "model_options : (value | LABEL | _NEWLINE | _COMMA)+\n",
      "\n",
      "// We must set priorities here to use lalr - match model name above label, and label above something else\n",
      "// This is supposed to be empty and will be filled via the `edit_terminals` functionality with a list of models\n",
      "MODEL_NAME.2 : \"MODEL_NAME_PLACEHOLDER\"/\\b/\n",
      "\n",
      "// model : model_generic\n",
      "// model_helamp : \"HELAMP\" (SIGNED_NUMBER SIGNED_NUMBER)+\n",
      "\n",
      "// Terminal definitions\n",
      "// To use a fast parser, we need to avoid conflicts\n",
      "\n",
      "%import common.WS_INLINE\n",
      "%import common.INT\n",
      "%import common.SIGNED_NUMBER\n",
      "\n",
      "// Disregard comments, (multiple) newlines and whitespace in parser tree\n",
      "_NEWLINE: ( /\\r?\\n[\\t ]*/ | COMMENT )\n",
      "_SEMICOLON: /;/\n",
      "_COMMA: /,/\n",
      "_WS: WS_INLINE\n",
      "\n",
      "LABEL : /[a-zA-Z0-9\\/\\-+*_().'~]+/\n",
      "COMMENT : /[#][^\\n]*/\n",
      "\n",
      "// We should ignore comments\n",
      "%ignore COMMENT\n",
      "\n",
      "// Disregard spaces in text\n",
      "%ignore WS_INLINE\n",
      "\n"
     ]
    }
   ],
   "source": [
    "print(grammar)"
   ]
  },
  {
   "cell_type": "markdown",
   "metadata": {},
   "source": [
    "For illustration - the .dec decay file:"
   ]
  },
  {
   "cell_type": "code",
   "execution_count": 4,
   "metadata": {},
   "outputs": [
    {
     "name": "stdout",
     "output_type": "stream",
     "text": [
      "# Example decay chain for testing purposes\n",
      "# Considered by itself, this file in in fact incomplete,\n",
      "# as there are no instructions on how to decay the anti-D0 and the D-!\n",
      "\n",
      "Decay D*+\n",
      "  0.677             D0 pi+       VSS;\n",
      "  0.307             D+ pi0       VSS;\n",
      "  0.016             D+ gamma     VSP_PWAVE;\n",
      "Enddecay\n",
      "\n",
      "Decay D*-\n",
      "0.6770    anti-D0  pi-                VSS;\n",
      "0.3070    D-       pi0                VSS;\n",
      "0.0160    D-       gamma              VSP_PWAVE;\n",
      "Enddecay\n",
      "\n",
      "Decay D0\n",
      "1.0   K-      pi+                  PHSP;\n",
      "Enddecay\n",
      "\n",
      "Decay D+\n",
      "1.0   K-   pi+   pi+   pi0    PHSP;\n",
      "Enddecay\n",
      "\n",
      "Decay pi0\n",
      "0.988228297   gamma   gamma                   PHSP;\n",
      "0.011738247   e+      e-      gamma           PI0_DALITZ;\n",
      "0.000033392   e+      e+      e-      e-      PHSP;\n",
      "0.000000065   e+      e-                      PHSP;\n",
      "Enddecay\n",
      "\n"
     ]
    }
   ],
   "source": [
    "print(dec_file)"
   ]
  },
  {
   "cell_type": "markdown",
   "metadata": {},
   "source": [
    "Define a helper function to dynamically load the model names needed to parse the decfile"
   ]
  },
  {
   "cell_type": "code",
   "execution_count": 5,
   "metadata": {
    "tags": []
   },
   "outputs": [],
   "source": [
    "def edit_model_name_terminals(t) -> None:\n",
    "    \"\"\"\n",
    "    Edits the terminals of the grammar to replace the model name placeholder with the actual names of the models.\n",
    "    \"\"\"\n",
    "    decay_models = (\"VSS\", \"VSP_PWAVE\", \"PHSP\", \"PI0_DALITZ\")\n",
    "    modelstr = rf\"(?:{'|'.join(re.escape(dm) for dm in sorted(decay_models, key=len, reverse=True))})\"\n",
    "    if t.name == \"MODEL_NAME\":\n",
    "        t.pattern.value = t.pattern.value.replace(\"MODEL_NAME_PLACEHOLDER\", modelstr)"
   ]
  },
  {
   "cell_type": "markdown",
   "metadata": {},
   "source": [
    "Parse the .dec decay file."
   ]
  },
  {
   "cell_type": "code",
   "execution_count": 6,
   "metadata": {},
   "outputs": [],
   "source": [
    "l = Lark(grammar, parser=\"lalr\", lexer=\"auto\", edit_terminals=edit_model_name_terminals)\n",
    "parsed_dec_file = l.parse(dec_file)"
   ]
  },
  {
   "cell_type": "code",
   "execution_count": 7,
   "metadata": {},
   "outputs": [
    {
     "name": "stdout",
     "output_type": "stream",
     "text": [
      "# of decays in file = 5\n"
     ]
    }
   ],
   "source": [
    "def number_of_decays(parsed_file):\n",
    "    \"\"\"Returns the number of particle decays defined in the parsed .dec file.\"\"\"\n",
    "    return len(list(parsed_file.find_data(\"decay\")))\n",
    "\n",
    "\n",
    "print(\"# of decays in file =\", number_of_decays(parsed_dec_file))"
   ]
  },
  {
   "cell_type": "code",
   "execution_count": 15,
   "metadata": {},
   "outputs": [],
   "source": [
    "def list_of_decay_trees(parsed_file):\n",
    "    \"\"\"Return a list of the actual decays defined in the .dec file.\"\"\"\n",
    "    list_of_decays = list(parsed_file.find_data(\"decay\"))\n",
    "    return list_of_decays"
   ]
  },
  {
   "cell_type": "code",
   "execution_count": 9,
   "metadata": {},
   "outputs": [],
   "source": [
    "def get_decay_mode_details(decay_mode_Tree):\n",
    "    \"\"\"Parse a decay mode tree and return the relevant bits of information in it.\"\"\"\n",
    "    bf = (\n",
    "        [x for x in decay_mode_Tree.find_data(\"value\")][0].children[0].value\n",
    "        if len([x for x in decay_mode_Tree.find_data(\"value\")]) == 1\n",
    "        else None\n",
    "    )\n",
    "    bf = float(bf)\n",
    "    products = tuple(\n",
    "        [\n",
    "            p.children[0].value\n",
    "            for p in decay_mode_Tree.children\n",
    "            if isinstance(p, Tree) and p.data == \"particle\"\n",
    "        ]\n",
    "    )\n",
    "    model = (\n",
    "        [x for x in decay_mode_Tree.find_data(\"model\")][0].children[0].value\n",
    "        if len([x for x in decay_mode_Tree.find_data(\"model\")]) == 1\n",
    "        else None\n",
    "    )\n",
    "    return (bf, products, model)"
   ]
  },
  {
   "cell_type": "markdown",
   "metadata": {},
   "source": [
    "Finally, digest all Lark's Tree objects parsed and collect the information of all defined decays."
   ]
  },
  {
   "cell_type": "code",
   "execution_count": 10,
   "metadata": {},
   "outputs": [],
   "source": [
    "decays = {}\n",
    "\n",
    "for tree in list_of_decay_trees(parsed_dec_file):\n",
    "    if tree.data == \"decay\":\n",
    "        if tree.children[0].children[0].value in decays:\n",
    "            print(\n",
    "                \"Decays of particle %s are redefined! Please check your .dec file.\"\n",
    "                % tree.children[0].children[0].value\n",
    "            )\n",
    "        decays[tree.children[0].children[0].value] = []\n",
    "        for decay_mode in tree.find_data(\"decayline\"):\n",
    "            decays[tree.children[0].children[0].value].append(\n",
    "                get_decay_mode_details(decay_mode)\n",
    "            )"
   ]
  },
  {
   "cell_type": "markdown",
   "metadata": {},
   "source": [
    "For illustration - print out the decay modes:"
   ]
  },
  {
   "cell_type": "code",
   "execution_count": 11,
   "metadata": {},
   "outputs": [],
   "source": [
    "def print_decay(dec, final_state):\n",
    "    \"\"\"Pretty print of the decay modes of a given particle.\"\"\"\n",
    "    print(dec)\n",
    "    for fs in final_state:\n",
    "        print(\"%12g : %50s %15s\" % (fs[0], \"  \".join(p for p in fs[1]), fs[2]))"
   ]
  },
  {
   "cell_type": "code",
   "execution_count": 12,
   "metadata": {},
   "outputs": [
    {
     "name": "stdout",
     "output_type": "stream",
     "text": [
      "pi0\n",
      "    0.988228 :                                       gamma  gamma            PHSP\n",
      "   0.0117382 :                                      e+  e-  gamma      PI0_DALITZ\n",
      "  3.3392e-05 :                                     e+  e+  e-  e-            PHSP\n",
      "     6.5e-08 :                                             e+  e-            PHSP\n"
     ]
    }
   ],
   "source": [
    "print_decay(\"pi0\", decays[\"pi0\"])"
   ]
  },
  {
   "cell_type": "code",
   "execution_count": 13,
   "metadata": {
    "scrolled": true
   },
   "outputs": [
    {
     "name": "stdout",
     "output_type": "stream",
     "text": [
      "D*+\n",
      "       0.677 :                                            D0  pi+             VSS\n",
      "       0.307 :                                            D+  pi0             VSS\n",
      "       0.016 :                                          D+  gamma       VSP_PWAVE\n",
      "D*-\n",
      "       0.677 :                                       anti-D0  pi-             VSS\n",
      "       0.307 :                                            D-  pi0             VSS\n",
      "       0.016 :                                          D-  gamma       VSP_PWAVE\n",
      "D0\n",
      "           1 :                                            K-  pi+            PHSP\n",
      "D+\n",
      "           1 :                                  K-  pi+  pi+  pi0            PHSP\n",
      "pi0\n",
      "    0.988228 :                                       gamma  gamma            PHSP\n",
      "   0.0117382 :                                      e+  e-  gamma      PI0_DALITZ\n",
      "  3.3392e-05 :                                     e+  e+  e-  e-            PHSP\n",
      "     6.5e-08 :                                             e+  e-            PHSP\n"
     ]
    }
   ],
   "source": [
    "for particle, decay_info in decays.items():\n",
    "    print_decay(particle, decay_info)"
   ]
  },
  {
   "cell_type": "markdown",
   "metadata": {},
   "source": [
    "For illustration - produce a dot plot of a decay Tree:"
   ]
  },
  {
   "cell_type": "code",
   "execution_count": 14,
   "metadata": {
    "tags": []
   },
   "outputs": [
    {
     "ename": "ModuleNotFoundError",
     "evalue": "No module named 'pydot'",
     "output_type": "error",
     "traceback": [
      "\u001b[0;31m---------------------------------------------------------------------------\u001b[0m",
      "\u001b[0;31mModuleNotFoundError\u001b[0m                       Traceback (most recent call last)",
      "\u001b[0;32m/tmp/ipykernel_3649711/3333668827.py\u001b[0m in \u001b[0;36m<module>\u001b[0;34m\u001b[0m\n\u001b[1;32m      1\u001b[0m \u001b[0;32mfrom\u001b[0m \u001b[0mlark\u001b[0m\u001b[0;34m.\u001b[0m\u001b[0mtree\u001b[0m \u001b[0;32mimport\u001b[0m \u001b[0mpydot__tree_to_png\u001b[0m  \u001b[0;31m# requires pydot\u001b[0m\u001b[0;34m\u001b[0m\u001b[0;34m\u001b[0m\u001b[0m\n\u001b[1;32m      2\u001b[0m \u001b[0;34m\u001b[0m\u001b[0m\n\u001b[0;32m----> 3\u001b[0;31m pydot__tree_to_png(\n\u001b[0m\u001b[1;32m      4\u001b[0m     \u001b[0mlist_of_decay_trees\u001b[0m\u001b[0;34m(\u001b[0m\u001b[0mparsed_dec_file\u001b[0m\u001b[0;34m)\u001b[0m\u001b[0;34m[\u001b[0m\u001b[0;36m0\u001b[0m\u001b[0;34m]\u001b[0m\u001b[0;34m,\u001b[0m \u001b[0mfilename\u001b[0m\u001b[0;34m=\u001b[0m\u001b[0;34m\"decay.png\"\u001b[0m\u001b[0;34m,\u001b[0m \u001b[0mrankdir\u001b[0m\u001b[0;34m=\u001b[0m\u001b[0;34m\"LR\"\u001b[0m\u001b[0;34m\u001b[0m\u001b[0;34m\u001b[0m\u001b[0m\n\u001b[1;32m      5\u001b[0m )\n",
      "\u001b[0;32m~/.local/lib/python3.8/site-packages/lark/tree.py\u001b[0m in \u001b[0;36mpydot__tree_to_png\u001b[0;34m(tree, filename, rankdir, **kwargs)\u001b[0m\n\u001b[1;32m    182\u001b[0m \u001b[0;34m\u001b[0m\u001b[0m\n\u001b[1;32m    183\u001b[0m \u001b[0;32mdef\u001b[0m \u001b[0mpydot__tree_to_png\u001b[0m\u001b[0;34m(\u001b[0m\u001b[0mtree\u001b[0m\u001b[0;34m,\u001b[0m \u001b[0mfilename\u001b[0m\u001b[0;34m,\u001b[0m \u001b[0mrankdir\u001b[0m\u001b[0;34m=\u001b[0m\u001b[0;34m\"LR\"\u001b[0m\u001b[0;34m,\u001b[0m \u001b[0;34m**\u001b[0m\u001b[0mkwargs\u001b[0m\u001b[0;34m)\u001b[0m\u001b[0;34m:\u001b[0m\u001b[0;34m\u001b[0m\u001b[0;34m\u001b[0m\u001b[0m\n\u001b[0;32m--> 184\u001b[0;31m     \u001b[0mgraph\u001b[0m \u001b[0;34m=\u001b[0m \u001b[0mpydot__tree_to_graph\u001b[0m\u001b[0;34m(\u001b[0m\u001b[0mtree\u001b[0m\u001b[0;34m,\u001b[0m \u001b[0mrankdir\u001b[0m\u001b[0;34m,\u001b[0m \u001b[0;34m**\u001b[0m\u001b[0mkwargs\u001b[0m\u001b[0;34m)\u001b[0m\u001b[0;34m\u001b[0m\u001b[0;34m\u001b[0m\u001b[0m\n\u001b[0m\u001b[1;32m    185\u001b[0m     \u001b[0mgraph\u001b[0m\u001b[0;34m.\u001b[0m\u001b[0mwrite_png\u001b[0m\u001b[0;34m(\u001b[0m\u001b[0mfilename\u001b[0m\u001b[0;34m)\u001b[0m\u001b[0;34m\u001b[0m\u001b[0;34m\u001b[0m\u001b[0m\n\u001b[1;32m    186\u001b[0m \u001b[0;34m\u001b[0m\u001b[0m\n",
      "\u001b[0;32m~/.local/lib/python3.8/site-packages/lark/tree.py\u001b[0m in \u001b[0;36mpydot__tree_to_graph\u001b[0;34m(tree, rankdir, **kwargs)\u001b[0m\n\u001b[1;32m    202\u001b[0m     \"\"\"\n\u001b[1;32m    203\u001b[0m \u001b[0;34m\u001b[0m\u001b[0m\n\u001b[0;32m--> 204\u001b[0;31m     \u001b[0;32mimport\u001b[0m \u001b[0mpydot\u001b[0m\u001b[0;34m\u001b[0m\u001b[0;34m\u001b[0m\u001b[0m\n\u001b[0m\u001b[1;32m    205\u001b[0m     \u001b[0mgraph\u001b[0m \u001b[0;34m=\u001b[0m \u001b[0mpydot\u001b[0m\u001b[0;34m.\u001b[0m\u001b[0mDot\u001b[0m\u001b[0;34m(\u001b[0m\u001b[0mgraph_type\u001b[0m\u001b[0;34m=\u001b[0m\u001b[0;34m'digraph'\u001b[0m\u001b[0;34m,\u001b[0m \u001b[0mrankdir\u001b[0m\u001b[0;34m=\u001b[0m\u001b[0mrankdir\u001b[0m\u001b[0;34m,\u001b[0m \u001b[0;34m**\u001b[0m\u001b[0mkwargs\u001b[0m\u001b[0;34m)\u001b[0m\u001b[0;34m\u001b[0m\u001b[0;34m\u001b[0m\u001b[0m\n\u001b[1;32m    206\u001b[0m \u001b[0;34m\u001b[0m\u001b[0m\n",
      "\u001b[0;31mModuleNotFoundError\u001b[0m: No module named 'pydot'"
     ]
    }
   ],
   "source": [
    "from lark.tree import pydot__tree_to_png  # requires pydot\n",
    "\n",
    "pydot__tree_to_png(\n",
    "    list_of_decay_trees(parsed_dec_file)[0], filename=\"decay.png\", rankdir=\"LR\"\n",
    ")\n",
    "\n",
    "from IPython.display import Image\n",
    "\n",
    "Image(filename=\"decay.png\")"
   ]
  }
 ],
 "metadata": {
  "kernelspec": {
   "display_name": "Python 3 (ipykernel)",
   "language": "python",
   "name": "python3"
  },
  "language_info": {
   "codemirror_mode": {
    "name": "ipython",
    "version": 3
   },
   "file_extension": ".py",
   "mimetype": "text/x-python",
   "name": "python",
   "nbconvert_exporter": "python",
   "pygments_lexer": "ipython3",
   "version": "3.8.8"
  }
 },
 "nbformat": 4,
 "nbformat_minor": 4
}
