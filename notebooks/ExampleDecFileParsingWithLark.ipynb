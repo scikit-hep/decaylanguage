{
 "cells": [
  {
   "cell_type": "markdown",
   "metadata": {},
   "source": [
    "# Example of parsing a .dec decay file with Lark"
   ]
  },
  {
   "cell_type": "markdown",
   "metadata": {},
   "source": [
    "This file demonstrates how to parse a decfile with only the Lark grammar definition. Much of the functionality demonstrated here is already provided as part of decaylanguage in a more thorough and detailed form. This example only serves to show the key data structures used."
   ]
  },
  {
   "cell_type": "code",
   "execution_count": null,
   "metadata": {},
   "outputs": [],
   "source": [
    "from __future__ import annotations\n",
    "\n",
    "import re\n",
    "\n",
    "from lark import Lark, Tree\n",
    "\n",
    "from decaylanguage import data"
   ]
  },
  {
   "cell_type": "raw",
   "metadata": {},
   "source": [
    "Read in the Lark grammar definition file and the input .dec decay file"
   ]
  },
  {
   "cell_type": "code",
   "execution_count": null,
   "metadata": {},
   "outputs": [],
   "source": [
    "with data.basepath.joinpath(\"decfile.lark\").open() as f:\n",
    "    grammar = f.read()\n",
    "\n",
    "with open(\"../tests/data/test_example_Dst.dec\") as f:\n",
    "    dec_file = f.read()"
   ]
  },
  {
   "cell_type": "markdown",
   "metadata": {},
   "source": [
    "For illustration - the grammar Lark file:"
   ]
  },
  {
   "cell_type": "code",
   "execution_count": null,
   "metadata": {},
   "outputs": [],
   "source": [
    "print(grammar)"
   ]
  },
  {
   "cell_type": "markdown",
   "metadata": {},
   "source": [
    "For illustration - the .dec decay file:"
   ]
  },
  {
   "cell_type": "code",
   "execution_count": null,
   "metadata": {},
   "outputs": [],
   "source": [
    "print(dec_file)"
   ]
  },
  {
   "cell_type": "markdown",
   "metadata": {},
   "source": [
    "Define a helper function to dynamically load the model names needed to parse the decfile"
   ]
  },
  {
   "cell_type": "code",
   "execution_count": null,
   "metadata": {
    "tags": []
   },
   "outputs": [],
   "source": [
    "def edit_model_name_terminals(t) -> None:\n",
    "    \"\"\"\n",
    "    Edits the terminals of the grammar to replace the model name placeholder with the actual names of the models.\n",
    "    \"\"\"\n",
    "    decay_models = (\"VSS\", \"VSP_PWAVE\", \"PHSP\", \"PI0_DALITZ\")\n",
    "    modelstr = rf\"(?:{'|'.join(re.escape(dm) for dm in sorted(decay_models, key=len, reverse=True))})\"\n",
    "    if t.name == \"MODEL_NAME\":\n",
    "        t.pattern.value = t.pattern.value.replace(\"MODEL_NAME_PLACEHOLDER\", modelstr)"
   ]
  },
  {
   "cell_type": "markdown",
   "metadata": {},
   "source": [
    "Parse the .dec decay file."
   ]
  },
  {
   "cell_type": "code",
   "execution_count": null,
   "metadata": {},
   "outputs": [],
   "source": [
    "l = Lark(grammar, parser=\"lalr\", lexer=\"auto\", edit_terminals=edit_model_name_terminals)\n",
    "parsed_dec_file = l.parse(dec_file)"
   ]
  },
  {
   "cell_type": "code",
   "execution_count": null,
   "metadata": {},
   "outputs": [],
   "source": [
    "def number_of_decays(parsed_file):\n",
    "    \"\"\"Returns the number of particle decays defined in the parsed .dec file.\"\"\"\n",
    "    return len(list(parsed_file.find_data(\"decay\")))\n",
    "\n",
    "\n",
    "print(\"# of decays in file =\", number_of_decays(parsed_dec_file))"
   ]
  },
  {
   "cell_type": "code",
   "execution_count": null,
   "metadata": {},
   "outputs": [],
   "source": [
    "def list_of_decay_trees(parsed_file):\n",
    "    \"\"\"Return a list of the actual decays defined in the .dec file.\"\"\"\n",
    "    return list(parsed_file.find_data(\"decay\"))"
   ]
  },
  {
   "cell_type": "code",
   "execution_count": null,
   "metadata": {},
   "outputs": [],
   "source": [
    "def get_decay_mode_details(decay_mode_Tree):\n",
    "    \"\"\"Parse a decay mode tree and return the relevant bits of information in it.\"\"\"\n",
    "    bf = (\n",
    "        next(iter(decay_mode_Tree.find_data(\"value\"))).children[0].value\n",
    "        if len(list(decay_mode_Tree.find_data(\"value\"))) == 1\n",
    "        else None\n",
    "    )\n",
    "    bf = float(bf)\n",
    "    products = tuple(\n",
    "        [\n",
    "            p.children[0].value\n",
    "            for p in decay_mode_Tree.children\n",
    "            if isinstance(p, Tree) and p.data == \"particle\"\n",
    "        ]\n",
    "    )\n",
    "    model = (\n",
    "        next(iter(decay_mode_Tree.find_data(\"model\"))).children[0].value\n",
    "        if len(list(decay_mode_Tree.find_data(\"model\"))) == 1\n",
    "        else None\n",
    "    )\n",
    "    return (bf, products, model)"
   ]
  },
  {
   "cell_type": "markdown",
   "metadata": {},
   "source": [
    "Finally, digest all Lark's Tree objects parsed and collect the information of all defined decays."
   ]
  },
  {
   "cell_type": "code",
   "execution_count": null,
   "metadata": {},
   "outputs": [],
   "source": [
    "decays = {}\n",
    "\n",
    "for tree in list_of_decay_trees(parsed_dec_file):\n",
    "    if tree.data == \"decay\":\n",
    "        if tree.children[0].children[0].value in decays:\n",
    "            print(\n",
    "                f\"Decays of particle {tree.children[0].children[0].value} are redefined! Please check your .dec file.\"\n",
    "            )\n",
    "        decays[tree.children[0].children[0].value] = []\n",
    "        for decay_mode in tree.find_data(\"decayline\"):\n",
    "            decays[tree.children[0].children[0].value].append(\n",
    "                get_decay_mode_details(decay_mode)\n",
    "            )"
   ]
  },
  {
   "cell_type": "markdown",
   "metadata": {},
   "source": [
    "For illustration - print out the decay modes:"
   ]
  },
  {
   "cell_type": "code",
   "execution_count": null,
   "metadata": {},
   "outputs": [],
   "source": [
    "def print_decay(dec, final_state):\n",
    "    \"\"\"Pretty print of the decay modes of a given particle.\"\"\"\n",
    "    print(dec)\n",
    "    for fs in final_state:\n",
    "        print(f\"{fs[0]:12g} : {'  '.join(p for p in fs[1]):50s} {fs[2]:15s}\")"
   ]
  },
  {
   "cell_type": "code",
   "execution_count": null,
   "metadata": {},
   "outputs": [],
   "source": [
    "print_decay(\"pi0\", decays[\"pi0\"])"
   ]
  },
  {
   "cell_type": "code",
   "execution_count": null,
   "metadata": {
    "scrolled": true
   },
   "outputs": [],
   "source": [
    "for particle, decay_info in decays.items():\n",
    "    print_decay(particle, decay_info)"
   ]
  },
  {
   "cell_type": "markdown",
   "metadata": {},
   "source": [
    "For illustration - produce a dot plot of a decay Tree:"
   ]
  },
  {
   "cell_type": "code",
   "execution_count": null,
   "metadata": {
    "tags": []
   },
   "outputs": [],
   "source": [
    "from IPython.display import Image\n",
    "from lark.tree import pydot__tree_to_png  # requires pydot\n",
    "\n",
    "pydot__tree_to_png(\n",
    "    list_of_decay_trees(parsed_dec_file)[0], filename=\"decay.png\", rankdir=\"LR\"\n",
    ")\n",
    "\n",
    "Image(filename=\"decay.png\")"
   ]
  }
 ],
 "metadata": {
  "kernelspec": {
   "display_name": "base",
   "language": "python",
   "name": "python3"
  },
  "language_info": {
   "codemirror_mode": {
    "name": "ipython",
    "version": 3
   },
   "file_extension": ".py",
   "mimetype": "text/x-python",
   "name": "python",
   "nbconvert_exporter": "python",
   "pygments_lexer": "ipython3",
   "version": "3.10.13"
  }
 },
 "nbformat": 4,
 "nbformat_minor": 4
}
